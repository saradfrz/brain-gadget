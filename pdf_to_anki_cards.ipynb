{
 "cells": [
  {
   "cell_type": "markdown",
   "id": "22464796-776e-4fd1-be10-601a3f32a1be",
   "metadata": {},
   "source": [
    "<div style=\"background-color: black; text-align: center; padding: 20px; font-family: Helvetica, sans-serif;\">\n",
    "  <div style=\"color: #fc007e ; font-size: 54px; margin-top: 10px;\"><b>PDF to Anki Cards</b></div>\n",
    "  <div style=\"color: white; font-size: 36px; margin-top: 0;\">Text processor</div>\n",
    "</div>"
   ]
  },
  {
   "cell_type": "code",
   "execution_count": null,
   "id": "10fefc4b-f51d-45e0-87a5-a3c2339eadb3",
   "metadata": {},
   "outputs": [],
   "source": [
    "from services import create_prompt, get_text_from_pdf, process_text"
   ]
  },
  {
   "cell_type": "code",
   "execution_count": null,
   "id": "c69f3555-f509-4c97-9f86-7ba4e27a10c4",
   "metadata": {},
   "outputs": [],
   "source": [
    "ind = 0\n",
    "page_start = 55\n",
    "page_end = 89\n",
    "\n",
    "raw_text = get_text_from_pdf( \"input/\" + get_pdf_name(), page_start, page_end)\n",
    "processed_text = process_text(raw_text)\n",
    "print(f\"ind: {ind}, max ind: {len(processed_text)-1}\")"
   ]
  },
  {
   "cell_type": "code",
   "execution_count": null,
   "id": "84448554-e912-4f3d-86ed-b17831e45cfc",
   "metadata": {},
   "outputs": [],
   "source": [
    "create_prompt(processed_text[ind])"
   ]
  }
 ],
 "metadata": {
  "kernelspec": {
   "display_name": "",
   "name": ""
  },
  "language_info": {
   "name": ""
  }
 },
 "nbformat": 4,
 "nbformat_minor": 5
}
